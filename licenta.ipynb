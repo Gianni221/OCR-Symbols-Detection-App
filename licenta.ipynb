{
 "cells": [
  {
   "cell_type": "code",
   "execution_count": 1,
   "metadata": {},
   "outputs": [
    {
     "name": "stderr",
     "output_type": "stream",
     "text": [
      "c:\\Users\\giann\\anaconda3\\envs\\tf_best\\lib\\site-packages\\tqdm\\auto.py:21: TqdmWarning: IProgress not found. Please update jupyter and ipywidgets. See https://ipywidgets.readthedocs.io/en/stable/user_install.html\n",
      "  from .autonotebook import tqdm as notebook_tqdm\n"
     ]
    }
   ],
   "source": [
    "import tensorflow as tf\n",
    "import tensorflow_datasets as tfds\n",
    "import numpy as np\n",
    "import pandas as pd\n",
    "import os \n",
    "from sklearn.model_selection import KFold\n",
    "from tensorflow.keras.utils import to_categorical\n",
    "from sklearn.model_selection import train_test_split\n",
    "import matplotlib.pyplot as plt \n",
    "from tensorflow.keras.utils import Sequence\n",
    "from tensorflow.keras.callbacks import ModelCheckpoint\n",
    "from tensorflow.keras.optimizers import SGD, Adam\n",
    "from extra_keras_datasets import emnist\n",
    "from skimage import transform\n",
    "from tensorflow.keras.models import load_model\n",
    "import datetime \n",
    "\n",
    "import warnings\n",
    "warnings.filterwarnings('ignore')"
   ]
  },
  {
   "cell_type": "code",
   "execution_count": 2,
   "metadata": {},
   "outputs": [],
   "source": [
    "def unflatten_images(images:np.array, width:int, height:int):\n",
    "    \"\"\"\n",
    "    This method will reshape each flatten image to a square like image.\n",
    "\n",
    "    Args:\n",
    "        images (np.array): array of flatten images\n",
    "\n",
    "    Returns:\n",
    "        (np.array,np.array)\n",
    "    \"\"\"\n",
    "\n",
    "    unflatten_images = images.reshape((len(images), width, height, 1))\n",
    "    transposed_unflatten_images= np.transpose(unflatten_images, (0, 2, 1, 3))\n",
    "\n",
    "    return transposed_unflatten_images"
   ]
  },
  {
   "cell_type": "code",
   "execution_count": 3,
   "metadata": {},
   "outputs": [],
   "source": [
    "def get_emnist_data(path:str = \"no_path\"):\n",
    "    \"\"\"\n",
    "    Method to load data wheter from a path to a csv file or from the extra_kagle_datasets.\n",
    "\n",
    "    Args:\n",
    "        path (str, optional): Path if we want to load data from csv. Defaults to \"no_path\".\n",
    "\n",
    "    Returns:\n",
    "        (np.array,np.array,np.array,np.array): train_images, encoded_train_labels, test_images, encoded_test_labels\n",
    "    \"\"\"\n",
    "\n",
    "    if path == \"no_path\":\n",
    "        (train_images, train_labels), (test_images, test_labels) =  emnist.load_data()\n",
    "\n",
    "\n",
    "        train_images=np.reshape(train_images, [len(train_images),28,28, 1]) \n",
    "        test_images=np.reshape(test_images, [len(test_images),28,28, 1] ) \n",
    "\n",
    "    else:\n",
    "        train_path = os.path.join(path,\"emnist-balanced-train.csv\")\n",
    "        test_path = os.path.join(path,\"emnist-balanced-test.csv\" )\n",
    "\n",
    "        train_data = np.array(pd.read_csv(train_path))\n",
    "        test_data = np.array(pd.read_csv(test_path))\n",
    "\n",
    "        train_images = unflatten_images(train_data[:,1:],\n",
    "                                                      28,\n",
    "                                                      28)\n",
    "        test_images = unflatten_images(test_data[:, 1:],\n",
    "                                                    28,\n",
    "                                                    28)\n",
    "        train_labels = train_data[:, :1]\n",
    "        test_labels = test_data[:, :1]\n",
    "    \n",
    "    encoded_train_labels = tf.keras.utils.to_categorical(train_labels, 47)\n",
    "    encoded_test_labels = tf.keras.utils.to_categorical(test_labels, 47)\n",
    "\n",
    "    train_images = train_images.astype('float32') / 255\n",
    "    test_images = test_images.astype('float32') / 255\n",
    "    \n",
    "    print(f\"Train data is of shape: {train_images.shape}\")\n",
    "    print(f\"Train labels is of shape: {train_labels.shape}\")\n",
    "    print(f\"Test data is of shape: {test_images.shape}\")\n",
    "    print(f\"Test labels is of shape: {test_labels.shape}\")\n",
    "\n",
    "    return train_images, encoded_train_labels, test_images, encoded_test_labels"
   ]
  },
  {
   "attachments": {},
   "cell_type": "markdown",
   "metadata": {},
   "source": [
    "##### Loading train data from csv file of the emnist balanced dataset"
   ]
  },
  {
   "cell_type": "code",
   "execution_count": 43,
   "metadata": {},
   "outputs": [
    {
     "name": "stdout",
     "output_type": "stream",
     "text": [
      "Train data is of shape: (112799, 28, 28, 1)\n",
      "Train labels is of shape: (112799, 1)\n",
      "Test data is of shape: (18799, 28, 28, 1)\n",
      "Test labels is of shape: (18799, 1)\n"
     ]
    }
   ],
   "source": [
    "train_images, train_labels, test_images, test_labels = get_emnist_data('Z:/Master I/PML - Practical Machine Learning/Jiani/data')"
   ]
  },
  {
   "attachments": {},
   "cell_type": "markdown",
   "metadata": {},
   "source": [
    "##### Loading train data from  keras extended datasets"
   ]
  },
  {
   "cell_type": "code",
   "execution_count": 7,
   "metadata": {},
   "outputs": [
    {
     "name": "stderr",
     "output_type": "stream",
     "text": [
      "INFO:root:Loading dataset = emnist\n",
      "WARNING:root:Please cite the following paper when using or referencing this Extra Keras Dataset:\n",
      "WARNING:root:Cohen, G., Afshar, S., Tapson, J., & van Schaik, A. (2017). EMNIST: an extension of MNIST to handwritten letters. Retrieved from http://arxiv.org/abs/1702.05373\n"
     ]
    },
    {
     "name": "stdout",
     "output_type": "stream",
     "text": [
      "Train data is of shape: (112800, 28, 28, 1)\n",
      "Train labels is of shape: (112800,)\n",
      "Test data is of shape: (18800, 28, 28, 1)\n",
      "Test labels is of shape: (18800,)\n"
     ]
    }
   ],
   "source": [
    "train_images, train_labels, test_images, test_labels = get_emnist_data()"
   ]
  },
  {
   "cell_type": "code",
   "execution_count": 8,
   "metadata": {},
   "outputs": [],
   "source": [
    "def plot_images(images, nr_of_images: int):\n",
    "    \"\"\"\n",
    "    Method used to plot some images after loading in order to check if the images we're loaded correctly.\n",
    "\n",
    "    Args:\n",
    "        images (np.array): Loaded images\n",
    "        nr_of_images (int): Number of images to show (it should be a squared number)\n",
    "    \"\"\"\n",
    "    nr_of_images_per_axe = int(np.sqrt(nr_of_images))\n",
    "    _, axs = plt.subplots(nr_of_images_per_axe, nr_of_images_per_axe, figsize=(5, 5))\n",
    "    axs = axs.flatten()\n",
    "    for img, ax in zip(images, axs):\n",
    "        ax.imshow(img)\n",
    "    plt.show()"
   ]
  },
  {
   "cell_type": "code",
   "execution_count": 9,
   "metadata": {},
   "outputs": [
    {
     "data": {
      "image/png": "[encoded data removed]",
      "text/plain": [
       "<Figure size 500x500 with 9 Axes>"
      ]
     },
     "metadata": {},
     "output_type": "display_data"
    }
   ],
   "source": [
    "plot_images(test_images,9)"
   ]
  },
  {
   "cell_type": "code",
   "execution_count": 4,
   "metadata": {},
   "outputs": [],
   "source": [
    "def resize_batch(imgs,width,height):\n",
    "    # A function to resize a batch of MNIST images to (32, 32)\n",
    "    # Args:\n",
    "    #   imgs: a numpy array of size [batch_size, 28 X 28].\n",
    "    # Returns:\n",
    "    #   a numpy array of size [batch_size, 32, 32].\n",
    "    imgs = imgs.reshape((-1, 28, 28, 1))\n",
    "    resized_imgs = np.zeros((imgs.shape[0], width, height, 1))\n",
    "    for i in range(imgs.shape[0]):\n",
    "        resized_imgs[i, ..., 0] = transform.resize(imgs[i, ..., 0], (width, height))\n",
    "    return resized_imgs"
   ]
  },
  {
   "cell_type": "code",
   "execution_count": 5,
   "metadata": {},
   "outputs": [],
   "source": [
    "class DataGenerator(Sequence):\n",
    "    \"\"\"\n",
    "    Generator used because we want the model to load a\n",
    "    batch at a time on the GPU in order to avoid memory problems.\n",
    "    \"\"\"\n",
    "    def __init__(self,\n",
    "                 x_set,\n",
    "                 y_set,\n",
    "                 batch_size,\n",
    "                 resize_info,\n",
    "                 add_dims:bool = False):\n",
    "        self.x, self.y = x_set, y_set\n",
    "        self.batch_size = batch_size\n",
    "        self.width, self.height = resize_info\n",
    "        self.add_dims = add_dims\n",
    "\n",
    "    def __len__(self):\n",
    "        return int(np.ceil(len(self.x) / float(self.batch_size)))\n",
    "\n",
    "    def __getitem__(self, idx):\n",
    "        batch_x = self.x[idx * self.batch_size:(idx + 1) * self.batch_size]\n",
    "        batch_y = self.y[idx * self.batch_size:(idx + 1) * self.batch_size]\n",
    "\n",
    "        resized_batch_x = resize_batch(batch_x,\n",
    "                                       self.width,\n",
    "                                       self.height)\n",
    "\n",
    "        if self.add_dims:\n",
    "            resized_batch_x = np.repeat(resized_batch_x,3,-1)\n",
    "\n",
    "        return resized_batch_x, batch_y"
   ]
  },
  {
   "cell_type": "code",
   "execution_count": 12,
   "metadata": {},
   "outputs": [],
   "source": [
    "train_gen = DataGenerator(train_images,\n",
    "                          train_labels,\n",
    "                          32,\n",
    "                          (32,32) ,\n",
    "                          True)\n",
    "test_gen = DataGenerator(test_images,\n",
    "                         test_labels,\n",
    "                         32,\n",
    "                         (32,32),\n",
    "                          True)"
   ]
  },
  {
   "cell_type": "code",
   "execution_count": 32,
   "metadata": {},
   "outputs": [],
   "source": [
    "def get_model(model_name:str,\n",
    "              used_opt,\n",
    "              used_loss_fn,\n",
    "              used_metrics,\n",
    "              num_labels,\n",
    "              used_input_shape = (32, 32, 3),\n",
    "              trainable = False,\n",
    "              layers_to_train = None):\n",
    "\n",
    "    if model_name.lower() == \"mobilenet\":\n",
    "        if layers_to_train != None:\n",
    "            pretrained_model = tf.keras.applications.MobileNetV2(alpha=0.75,\n",
    "                                                                input_shape=list(used_input_shape),\n",
    "                                                                include_top=False,\n",
    "                                                                weights='imagenet')\n",
    "            pretrained_model.trainable = trainable \n",
    "\n",
    "            model = tf.keras.Sequential([\n",
    "                pretrained_model,\n",
    "                tf.keras.layers.GlobalAveragePooling2D(),\n",
    "                tf.keras.layers.Dense(1000,activation='relu'),\n",
    "                tf.keras.layers.Dense(num_labels, activation='softmax')\n",
    "            ])\n",
    "        else:\n",
    "            pretrained_model = tf.keras.applications.MobileNetV2(alpha=0.75,\n",
    "                                                                input_shape=list(used_input_shape),\n",
    "                                                                include_top=False,\n",
    "                                                                weights='imagenet')\n",
    "            # Fine-tune from this layer onwards\n",
    "            fine_tune_at = layers_to_train\n",
    "\n",
    "            for layer in pretrained_model.layers[fine_tune_at:]:\n",
    "                layer.trainable =  True\n",
    "\n",
    "            model = tf.keras.Sequential([\n",
    "                pretrained_model,\n",
    "                tf.keras.layers.GlobalAveragePooling2D(),\n",
    "                tf.keras.layers.Dense(1000,activation='relu'),\n",
    "                tf.keras.layers.Dense(num_labels, activation='softmax')\n",
    "            ])\n",
    "            #create mobilenet with more trainable layers \n",
    "\n",
    "\n",
    "    elif model_name.lower() == \"cnn\":\n",
    "        model = tf.keras.models.Sequential([\n",
    "            tf.keras.layers.Conv2D(64, (3, 3), activation='relu', input_shape=used_input_shape),\n",
    "            tf.keras.layers.BatchNormalization(),\n",
    "            tf.keras.layers.MaxPooling2D((2, 2)),\n",
    "\n",
    "            tf.keras.layers.Conv2D(128, (3, 3), activation='relu'),\n",
    "            tf.keras.layers.BatchNormalization(),\n",
    "\n",
    "            tf.keras.layers.Conv2D(256, (3, 3), activation='relu'),\n",
    "            tf.keras.layers.BatchNormalization(),\n",
    "            tf.keras.layers.MaxPooling2D((2, 2)),\n",
    "\n",
    "            tf.keras.layers.Conv2D(256, (3, 3), activation='relu'),\n",
    "            tf.keras.layers.Flatten(),\n",
    "\n",
    "            tf.keras.layers.Dense(256, activation='relu'),\n",
    "            tf.keras.layers.Dropout(0.5),\n",
    "\n",
    "            tf.keras.layers.Dense(num_labels, activation='softmax')\n",
    "        ])\n",
    "\n",
    "    model.compile(optimizer=used_opt,\n",
    "                  loss=used_loss_fn,\n",
    "                  metrics=used_metrics)\n",
    "\n",
    "    return model"
   ]
  },
  {
   "cell_type": "code",
   "execution_count": 41,
   "metadata": {},
   "outputs": [],
   "source": [
    "def save_model_as_tflite_file(trained_model, out_path:str, save_name = 'model'):\n",
    "    \"\"\"\n",
    "    Method that can be used to save a tensorflow model to a tflite file.\n",
    "\n",
    "    Args:\n",
    "        trained_model (_type_): Model to be saved.\n",
    "        out_path (str): Path to where to save the tflite file.\n",
    "        save_name (str, optional): Name of the saved model. Defaults to 'model'.\n",
    "    \"\"\"\n",
    "\n",
    "    # convert the model\n",
    "    converter = tf.lite.TFLiteConverter.from_keras_model(trained_model)\n",
    "    tflite_model = converter.convert()\n",
    "\n",
    "    # save the model \n",
    "    with open(os.path.join(out_path , save_name + '.tflite'), 'wb') as f:\n",
    "        f.write(tflite_model)"
   ]
  },
  {
   "attachments": {},
   "cell_type": "markdown",
   "metadata": {},
   "source": [
    "###  1. FINE TUNE MOBILENET"
   ]
  },
  {
   "cell_type": "code",
   "execution_count": 46,
   "metadata": {},
   "outputs": [
    {
     "name": "stderr",
     "output_type": "stream",
     "text": [
      "INFO:root:Loading dataset = emnist\n",
      "WARNING:root:Please cite the following paper when using or referencing this Extra Keras Dataset:\n",
      "WARNING:root:Cohen, G., Afshar, S., Tapson, J., & van Schaik, A. (2017). EMNIST: an extension of MNIST to handwritten letters. Retrieved from http://arxiv.org/abs/1702.05373\n"
     ]
    },
    {
     "name": "stdout",
     "output_type": "stream",
     "text": [
      "Train data is of shape: (112800, 28, 28, 1)\n",
      "Train labels is of shape: (112800,)\n",
      "Test data is of shape: (18800, 28, 28, 1)\n",
      "Test labels is of shape: (18800,)\n",
      "WARNING:tensorflow:`input_shape` is undefined or non-square, or `rows` is not in [96, 128, 160, 192, 224]. Weights for input shape (224, 224) will be loaded as the default.\n"
     ]
    },
    {
     "name": "stderr",
     "output_type": "stream",
     "text": [
      "WARNING:tensorflow:`input_shape` is undefined or non-square, or `rows` is not in [96, 128, 160, 192, 224]. Weights for input shape (224, 224) will be loaded as the default.\n"
     ]
    },
    {
     "name": "stdout",
     "output_type": "stream",
     "text": [
      "Model: \"sequential_9\"\n",
      "_________________________________________________________________\n",
      " Layer (type)                Output Shape              Param #   \n",
      "=================================================================\n",
      " mobilenetv2_0.75_224 (Funct  (None, 1, 1, 1280)       1382064   \n",
      " ional)                                                          \n",
      "                                                                 \n",
      " global_average_pooling2d_9   (None, 1280)             0         \n",
      " (GlobalAveragePooling2D)                                        \n",
      "                                                                 \n",
      " dense_17 (Dense)            (None, 1000)              1281000   \n",
      "                                                                 \n",
      " dense_18 (Dense)            (None, 47)                47047     \n",
      "                                                                 \n",
      "=================================================================\n",
      "Total params: 2,710,111\n",
      "Trainable params: 2,683,471\n",
      "Non-trainable params: 26,640\n",
      "_________________________________________________________________\n",
      "Epoch 1/100\n",
      "  91/3525 [..............................] - ETA: 3:00 - loss: 3.1894 - accuracy: 0.2387"
     ]
    },
    {
     "ename": "KeyboardInterrupt",
     "evalue": "",
     "output_type": "error",
     "traceback": [
      "\u001b[1;31m---------------------------------------------------------------------------\u001b[0m",
      "\u001b[1;31mKeyboardInterrupt\u001b[0m                         Traceback (most recent call last)",
      "Cell \u001b[1;32mIn[46], line 58\u001b[0m\n\u001b[0;32m     55\u001b[0m tensorboard_callback \u001b[39m=\u001b[39m tf\u001b[39m.\u001b[39mkeras\u001b[39m.\u001b[39mcallbacks\u001b[39m.\u001b[39mTensorBoard(log_dir\u001b[39m=\u001b[39mlog_dir, histogram_freq\u001b[39m=\u001b[39m\u001b[39m1\u001b[39m)\n\u001b[0;32m     57\u001b[0m \u001b[39m# train \u001b[39;00m\n\u001b[1;32m---> 58\u001b[0m history \u001b[39m=\u001b[39m model\u001b[39m.\u001b[39;49mfit(train_gen,\n\u001b[0;32m     59\u001b[0m                     epochs\u001b[39m=\u001b[39;49m\u001b[39m100\u001b[39;49m,\n\u001b[0;32m     60\u001b[0m                     validation_data\u001b[39m=\u001b[39;49mtest_gen,\n\u001b[0;32m     61\u001b[0m                     callbacks\u001b[39m=\u001b[39;49m[lr_schedule_callback, model_checkpoint_callback, tensorboard_callback])\n",
      "File \u001b[1;32mz:\\anaconda3\\envs\\tf_det\\lib\\site-packages\\keras\\utils\\traceback_utils.py:64\u001b[0m, in \u001b[0;36mfilter_traceback.<locals>.error_handler\u001b[1;34m(*args, **kwargs)\u001b[0m\n\u001b[0;32m     62\u001b[0m filtered_tb \u001b[39m=\u001b[39m \u001b[39mNone\u001b[39;00m\n\u001b[0;32m     63\u001b[0m \u001b[39mtry\u001b[39;00m:\n\u001b[1;32m---> 64\u001b[0m   \u001b[39mreturn\u001b[39;00m fn(\u001b[39m*\u001b[39margs, \u001b[39m*\u001b[39m\u001b[39m*\u001b[39mkwargs)\n\u001b[0;32m     65\u001b[0m \u001b[39mexcept\u001b[39;00m \u001b[39mException\u001b[39;00m \u001b[39mas\u001b[39;00m e:  \u001b[39m# pylint: disable=broad-except\u001b[39;00m\n\u001b[0;32m     66\u001b[0m   filtered_tb \u001b[39m=\u001b[39m _process_traceback_frames(e\u001b[39m.\u001b[39m__traceback__)\n",
      "File \u001b[1;32mz:\\anaconda3\\envs\\tf_det\\lib\\site-packages\\keras\\engine\\training.py:1409\u001b[0m, in \u001b[0;36mModel.fit\u001b[1;34m(self, x, y, batch_size, epochs, verbose, callbacks, validation_split, validation_data, shuffle, class_weight, sample_weight, initial_epoch, steps_per_epoch, validation_steps, validation_batch_size, validation_freq, max_queue_size, workers, use_multiprocessing)\u001b[0m\n\u001b[0;32m   1402\u001b[0m \u001b[39mwith\u001b[39;00m tf\u001b[39m.\u001b[39mprofiler\u001b[39m.\u001b[39mexperimental\u001b[39m.\u001b[39mTrace(\n\u001b[0;32m   1403\u001b[0m     \u001b[39m'\u001b[39m\u001b[39mtrain\u001b[39m\u001b[39m'\u001b[39m,\n\u001b[0;32m   1404\u001b[0m     epoch_num\u001b[39m=\u001b[39mepoch,\n\u001b[0;32m   1405\u001b[0m     step_num\u001b[39m=\u001b[39mstep,\n\u001b[0;32m   1406\u001b[0m     batch_size\u001b[39m=\u001b[39mbatch_size,\n\u001b[0;32m   1407\u001b[0m     _r\u001b[39m=\u001b[39m\u001b[39m1\u001b[39m):\n\u001b[0;32m   1408\u001b[0m   callbacks\u001b[39m.\u001b[39mon_train_batch_begin(step)\n\u001b[1;32m-> 1409\u001b[0m   tmp_logs \u001b[39m=\u001b[39m \u001b[39mself\u001b[39;49m\u001b[39m.\u001b[39;49mtrain_function(iterator)\n\u001b[0;32m   1410\u001b[0m   \u001b[39mif\u001b[39;00m data_handler\u001b[39m.\u001b[39mshould_sync:\n\u001b[0;32m   1411\u001b[0m     context\u001b[39m.\u001b[39masync_wait()\n",
      "File \u001b[1;32mz:\\anaconda3\\envs\\tf_det\\lib\\site-packages\\tensorflow\\python\\util\\traceback_utils.py:150\u001b[0m, in \u001b[0;36mfilter_traceback.<locals>.error_handler\u001b[1;34m(*args, **kwargs)\u001b[0m\n\u001b[0;32m    148\u001b[0m filtered_tb \u001b[39m=\u001b[39m \u001b[39mNone\u001b[39;00m\n\u001b[0;32m    149\u001b[0m \u001b[39mtry\u001b[39;00m:\n\u001b[1;32m--> 150\u001b[0m   \u001b[39mreturn\u001b[39;00m fn(\u001b[39m*\u001b[39margs, \u001b[39m*\u001b[39m\u001b[39m*\u001b[39mkwargs)\n\u001b[0;32m    151\u001b[0m \u001b[39mexcept\u001b[39;00m \u001b[39mException\u001b[39;00m \u001b[39mas\u001b[39;00m e:\n\u001b[0;32m    152\u001b[0m   filtered_tb \u001b[39m=\u001b[39m _process_traceback_frames(e\u001b[39m.\u001b[39m__traceback__)\n",
      "File \u001b[1;32mz:\\anaconda3\\envs\\tf_det\\lib\\site-packages\\tensorflow\\python\\eager\\def_function.py:915\u001b[0m, in \u001b[0;36mFunction.__call__\u001b[1;34m(self, *args, **kwds)\u001b[0m\n\u001b[0;32m    912\u001b[0m compiler \u001b[39m=\u001b[39m \u001b[39m\"\u001b[39m\u001b[39mxla\u001b[39m\u001b[39m\"\u001b[39m \u001b[39mif\u001b[39;00m \u001b[39mself\u001b[39m\u001b[39m.\u001b[39m_jit_compile \u001b[39melse\u001b[39;00m \u001b[39m\"\u001b[39m\u001b[39mnonXla\u001b[39m\u001b[39m\"\u001b[39m\n\u001b[0;32m    914\u001b[0m \u001b[39mwith\u001b[39;00m OptionalXlaContext(\u001b[39mself\u001b[39m\u001b[39m.\u001b[39m_jit_compile):\n\u001b[1;32m--> 915\u001b[0m   result \u001b[39m=\u001b[39m \u001b[39mself\u001b[39m\u001b[39m.\u001b[39m_call(\u001b[39m*\u001b[39margs, \u001b[39m*\u001b[39m\u001b[39m*\u001b[39mkwds)\n\u001b[0;32m    917\u001b[0m new_tracing_count \u001b[39m=\u001b[39m \u001b[39mself\u001b[39m\u001b[39m.\u001b[39mexperimental_get_tracing_count()\n\u001b[0;32m    918\u001b[0m without_tracing \u001b[39m=\u001b[39m (tracing_count \u001b[39m==\u001b[39m new_tracing_count)\n",
      "File \u001b[1;32mz:\\anaconda3\\envs\\tf_det\\lib\\site-packages\\tensorflow\\python\\eager\\def_function.py:947\u001b[0m, in \u001b[0;36mFunction._call\u001b[1;34m(self, *args, **kwds)\u001b[0m\n\u001b[0;32m    944\u001b[0m   \u001b[39mself\u001b[39m\u001b[39m.\u001b[39m_lock\u001b[39m.\u001b[39mrelease()\n\u001b[0;32m    945\u001b[0m   \u001b[39m# In this case we have created variables on the first call, so we run the\u001b[39;00m\n\u001b[0;32m    946\u001b[0m   \u001b[39m# defunned version which is guaranteed to never create variables.\u001b[39;00m\n\u001b[1;32m--> 947\u001b[0m   \u001b[39mreturn\u001b[39;00m \u001b[39mself\u001b[39m\u001b[39m.\u001b[39m_stateless_fn(\u001b[39m*\u001b[39margs, \u001b[39m*\u001b[39m\u001b[39m*\u001b[39mkwds)  \u001b[39m# pylint: disable=not-callable\u001b[39;00m\n\u001b[0;32m    948\u001b[0m \u001b[39melif\u001b[39;00m \u001b[39mself\u001b[39m\u001b[39m.\u001b[39m_stateful_fn \u001b[39mis\u001b[39;00m \u001b[39mnot\u001b[39;00m \u001b[39mNone\u001b[39;00m:\n\u001b[0;32m    949\u001b[0m   \u001b[39m# Release the lock early so that multiple threads can perform the call\u001b[39;00m\n\u001b[0;32m    950\u001b[0m   \u001b[39m# in parallel.\u001b[39;00m\n\u001b[0;32m    951\u001b[0m   \u001b[39mself\u001b[39m\u001b[39m.\u001b[39m_lock\u001b[39m.\u001b[39mrelease()\n",
      "File \u001b[1;32mz:\\anaconda3\\envs\\tf_det\\lib\\site-packages\\tensorflow\\python\\eager\\function.py:2453\u001b[0m, in \u001b[0;36mFunction.__call__\u001b[1;34m(self, *args, **kwargs)\u001b[0m\n\u001b[0;32m   2450\u001b[0m \u001b[39mwith\u001b[39;00m \u001b[39mself\u001b[39m\u001b[39m.\u001b[39m_lock:\n\u001b[0;32m   2451\u001b[0m   (graph_function,\n\u001b[0;32m   2452\u001b[0m    filtered_flat_args) \u001b[39m=\u001b[39m \u001b[39mself\u001b[39m\u001b[39m.\u001b[39m_maybe_define_function(args, kwargs)\n\u001b[1;32m-> 2453\u001b[0m \u001b[39mreturn\u001b[39;00m graph_function\u001b[39m.\u001b[39;49m_call_flat(\n\u001b[0;32m   2454\u001b[0m     filtered_flat_args, captured_inputs\u001b[39m=\u001b[39;49mgraph_function\u001b[39m.\u001b[39;49mcaptured_inputs)\n",
      "File \u001b[1;32mz:\\anaconda3\\envs\\tf_det\\lib\\site-packages\\tensorflow\\python\\eager\\function.py:1860\u001b[0m, in \u001b[0;36mConcreteFunction._call_flat\u001b[1;34m(self, args, captured_inputs, cancellation_manager)\u001b[0m\n\u001b[0;32m   1856\u001b[0m possible_gradient_type \u001b[39m=\u001b[39m gradients_util\u001b[39m.\u001b[39mPossibleTapeGradientTypes(args)\n\u001b[0;32m   1857\u001b[0m \u001b[39mif\u001b[39;00m (possible_gradient_type \u001b[39m==\u001b[39m gradients_util\u001b[39m.\u001b[39mPOSSIBLE_GRADIENT_TYPES_NONE\n\u001b[0;32m   1858\u001b[0m     \u001b[39mand\u001b[39;00m executing_eagerly):\n\u001b[0;32m   1859\u001b[0m   \u001b[39m# No tape is watching; skip to running the function.\u001b[39;00m\n\u001b[1;32m-> 1860\u001b[0m   \u001b[39mreturn\u001b[39;00m \u001b[39mself\u001b[39m\u001b[39m.\u001b[39m_build_call_outputs(\u001b[39mself\u001b[39;49m\u001b[39m.\u001b[39;49m_inference_function\u001b[39m.\u001b[39;49mcall(\n\u001b[0;32m   1861\u001b[0m       ctx, args, cancellation_manager\u001b[39m=\u001b[39;49mcancellation_manager))\n\u001b[0;32m   1862\u001b[0m forward_backward \u001b[39m=\u001b[39m \u001b[39mself\u001b[39m\u001b[39m.\u001b[39m_select_forward_and_backward_functions(\n\u001b[0;32m   1863\u001b[0m     args,\n\u001b[0;32m   1864\u001b[0m     possible_gradient_type,\n\u001b[0;32m   1865\u001b[0m     executing_eagerly)\n\u001b[0;32m   1866\u001b[0m forward_function, args_with_tangents \u001b[39m=\u001b[39m forward_backward\u001b[39m.\u001b[39mforward()\n",
      "File \u001b[1;32mz:\\anaconda3\\envs\\tf_det\\lib\\site-packages\\tensorflow\\python\\eager\\function.py:497\u001b[0m, in \u001b[0;36m_EagerDefinedFunction.call\u001b[1;34m(self, ctx, args, cancellation_manager)\u001b[0m\n\u001b[0;32m    495\u001b[0m \u001b[39mwith\u001b[39;00m _InterpolateFunctionError(\u001b[39mself\u001b[39m):\n\u001b[0;32m    496\u001b[0m   \u001b[39mif\u001b[39;00m cancellation_manager \u001b[39mis\u001b[39;00m \u001b[39mNone\u001b[39;00m:\n\u001b[1;32m--> 497\u001b[0m     outputs \u001b[39m=\u001b[39m execute\u001b[39m.\u001b[39;49mexecute(\n\u001b[0;32m    498\u001b[0m         \u001b[39mstr\u001b[39;49m(\u001b[39mself\u001b[39;49m\u001b[39m.\u001b[39;49msignature\u001b[39m.\u001b[39;49mname),\n\u001b[0;32m    499\u001b[0m         num_outputs\u001b[39m=\u001b[39;49m\u001b[39mself\u001b[39;49m\u001b[39m.\u001b[39;49m_num_outputs,\n\u001b[0;32m    500\u001b[0m         inputs\u001b[39m=\u001b[39;49margs,\n\u001b[0;32m    501\u001b[0m         attrs\u001b[39m=\u001b[39;49mattrs,\n\u001b[0;32m    502\u001b[0m         ctx\u001b[39m=\u001b[39;49mctx)\n\u001b[0;32m    503\u001b[0m   \u001b[39melse\u001b[39;00m:\n\u001b[0;32m    504\u001b[0m     outputs \u001b[39m=\u001b[39m execute\u001b[39m.\u001b[39mexecute_with_cancellation(\n\u001b[0;32m    505\u001b[0m         \u001b[39mstr\u001b[39m(\u001b[39mself\u001b[39m\u001b[39m.\u001b[39msignature\u001b[39m.\u001b[39mname),\n\u001b[0;32m    506\u001b[0m         num_outputs\u001b[39m=\u001b[39m\u001b[39mself\u001b[39m\u001b[39m.\u001b[39m_num_outputs,\n\u001b[1;32m   (...)\u001b[0m\n\u001b[0;32m    509\u001b[0m         ctx\u001b[39m=\u001b[39mctx,\n\u001b[0;32m    510\u001b[0m         cancellation_manager\u001b[39m=\u001b[39mcancellation_manager)\n",
      "File \u001b[1;32mz:\\anaconda3\\envs\\tf_det\\lib\\site-packages\\tensorflow\\python\\eager\\execute.py:54\u001b[0m, in \u001b[0;36mquick_execute\u001b[1;34m(op_name, num_outputs, inputs, attrs, ctx, name)\u001b[0m\n\u001b[0;32m     52\u001b[0m \u001b[39mtry\u001b[39;00m:\n\u001b[0;32m     53\u001b[0m   ctx\u001b[39m.\u001b[39mensure_initialized()\n\u001b[1;32m---> 54\u001b[0m   tensors \u001b[39m=\u001b[39m pywrap_tfe\u001b[39m.\u001b[39;49mTFE_Py_Execute(ctx\u001b[39m.\u001b[39;49m_handle, device_name, op_name,\n\u001b[0;32m     55\u001b[0m                                       inputs, attrs, num_outputs)\n\u001b[0;32m     56\u001b[0m \u001b[39mexcept\u001b[39;00m core\u001b[39m.\u001b[39m_NotOkStatusException \u001b[39mas\u001b[39;00m e:\n\u001b[0;32m     57\u001b[0m   \u001b[39mif\u001b[39;00m name \u001b[39mis\u001b[39;00m \u001b[39mnot\u001b[39;00m \u001b[39mNone\u001b[39;00m:\n",
      "\u001b[1;31mKeyboardInterrupt\u001b[0m: "
     ]
    }
   ],
   "source": [
    "# load data\n",
    "train_images, train_labels, test_images, test_labels = get_emnist_data()\n",
    "\n",
    "# create data generators\n",
    "train_gen = DataGenerator(train_images,\n",
    "                          train_labels,\n",
    "                          32,\n",
    "                          (32,32),\n",
    "                          True)\n",
    "test_gen = DataGenerator(test_images,\n",
    "                         test_labels,\n",
    "                         32,\n",
    "                         (32,32),\n",
    "                          True)\n",
    "\n",
    "# create model\n",
    "optimizer = tf.keras.optimizers.Adam()\n",
    "loss_fn = tf.keras.losses.CategoricalCrossentropy(from_logits=False)\n",
    "metrics=['accuracy',]\n",
    "\n",
    "model = get_model(\"mobilenet\",\n",
    "                  optimizer,\n",
    "                  loss_fn,\n",
    "                  metrics,\n",
    "                  47,\n",
    "                  trainable = True,\n",
    "                  layers_to_train = 70)\n",
    "model.summary()\n",
    "\n",
    "# schedular to decay the learning rate\n",
    "def scheduler_100_epochs(epoch, lr):\n",
    "    if epoch < 10:\n",
    "        return lr\n",
    "    elif epoch < 20:\n",
    "        return lr * tf.math.exp(-0.1)\n",
    "    elif epoch <= 50:\n",
    "        return lr * tf.math.exp(-0.01)\n",
    "    elif epoch <= 90:\n",
    "        return lr * tf.math.exp(-0.01)\n",
    "    else :\n",
    "        return lr\n",
    "\n",
    "lr_schedule_callback = tf.keras.callbacks.LearningRateScheduler(scheduler_100_epochs)\n",
    "\n",
    "# callback for saving the best model\n",
    "model_checkpoint_callback = ModelCheckpoint(filepath= f'Jiani/checkpoints/mobilenet/best_model.h5',\n",
    "                                            monitor='val_accuracy',\n",
    "                                            mode='max',\n",
    "                                            save_best_only=True,\n",
    "                                            verbose = True)\n",
    "\n",
    "# callback to save tensorboard logs for later visualization\n",
    "log_dir = \"Z:/Master I/PML - Practical Machine Learning/Jiani/checkpoints/mobilenet/logs/fit/\" + datetime.datetime.now().strftime(\"%Y%m%d-%H%M%S\")\n",
    "\n",
    "tensorboard_callback = tf.keras.callbacks.TensorBoard(log_dir=log_dir, histogram_freq=1)\n",
    "\n",
    "# train \n",
    "history = model.fit(train_gen,\n",
    "                    epochs=100,\n",
    "                    validation_data=test_gen,\n",
    "                    callbacks=[lr_schedule_callback, model_checkpoint_callback, tensorboard_callback])"
   ]
  },
  {
   "cell_type": "code",
   "execution_count": 29,
   "metadata": {},
   "outputs": [
    {
     "name": "stdout",
     "output_type": "stream",
     "text": [
      "5\n"
     ]
    }
   ],
   "source": [
    "layers = [1,2,3,4,5]\n",
    "fine_tune_at = 4\n",
    "for layer in layers[fine_tune_at:]:\n",
    "    print(layer)"
   ]
  },
  {
   "attachments": {},
   "cell_type": "markdown",
   "metadata": {},
   "source": [
    "##### Load best fine tuned mobilenet model and save in the tflite format"
   ]
  },
  {
   "cell_type": "code",
   "execution_count": 48,
   "metadata": {},
   "outputs": [
    {
     "name": "stdout",
     "output_type": "stream",
     "text": [
      "Model: \"sequential_9\"\n",
      "_________________________________________________________________\n",
      " Layer (type)                Output Shape              Param #   \n",
      "=================================================================\n",
      " mobilenetv2_0.75_224 (Funct  (None, 1, 1, 1280)       1382064   \n",
      " ional)                                                          \n",
      "                                                                 \n",
      " global_average_pooling2d_4   (None, 1280)             0         \n",
      " (GlobalAveragePooling2D)                                        \n",
      "                                                                 \n",
      " dense_15 (Dense)            (None, 1000)              1281000   \n",
      "                                                                 \n",
      " dense_16 (Dense)            (None, 47)                47047     \n",
      "                                                                 \n",
      "=================================================================\n",
      "Total params: 2,710,111\n",
      "Trainable params: 1,328,047\n",
      "Non-trainable params: 1,382,064\n",
      "_________________________________________________________________\n"
     ]
    },
    {
     "name": "stderr",
     "output_type": "stream",
     "text": [
      "WARNING:absl:Function `_wrapped_model` contains input name(s) mobilenetv2_0.75_224_input with unsupported characters which will be renamed to mobilenetv2_0_75_224_input in the SavedModel.\n",
      "WARNING:absl:Found untraced functions such as _jit_compiled_convolution_op, _jit_compiled_convolution_op, _jit_compiled_convolution_op, _jit_compiled_convolution_op, _jit_compiled_convolution_op while saving (showing 5 of 52). These functions will not be directly callable after loading.\n"
     ]
    },
    {
     "name": "stdout",
     "output_type": "stream",
     "text": [
      "INFO:tensorflow:Assets written to: C:\\Users\\test\\AppData\\Local\\Temp\\tmp75vm0qg4\\assets\n"
     ]
    },
    {
     "name": "stderr",
     "output_type": "stream",
     "text": [
      "INFO:tensorflow:Assets written to: C:\\Users\\test\\AppData\\Local\\Temp\\tmp75vm0qg4\\assets\n"
     ]
    }
   ],
   "source": [
    "from tensorflow.keras.models import load_model\n",
    "\n",
    "model = load_model(f'Jiani/checkpoints/mobilenet/best_model.h5')\n",
    "model.summary()\n",
    "\n",
    "save_name = \"fine_tuned_mobilenet_best_model\"\n",
    "save_model_as_tflite_file(model,f'Jiani/checkpoints/mobilenet/',save_name)"
   ]
  },
  {
   "attachments": {},
   "cell_type": "markdown",
   "metadata": {},
   "source": [
    "### 2. MY CNN MODEL "
   ]
  },
  {
   "attachments": {},
   "cell_type": "markdown",
   "metadata": {},
   "source": [
    "##### Method to train using cross validation"
   ]
  },
  {
   "cell_type": "code",
   "execution_count": 51,
   "metadata": {},
   "outputs": [],
   "source": [
    "def train_cross_fold_save_best_model(model,\n",
    "                                     train_data,\n",
    "                                     train_labels,\n",
    "                                     test_data,\n",
    "                                     test_labels,\n",
    "                                     save_best_weights_path,\n",
    "                                     epochs):\n",
    "\n",
    "    acc_per_fold, loss_per_fold = [], []\n",
    "\n",
    "    # Define the K-fold Cross Validator\n",
    "    kfold = KFold(n_splits=5, shuffle=True)\n",
    "    fold_n = 1\n",
    "    for train, test in kfold.split(train_data, train_labels):\n",
    "        # Generate a print\n",
    "        print('------------------------------------------------------------------------')\n",
    "        print(f'Training for fold {fold_n} ...')\n",
    "\n",
    "        model_checkpoint_callback = ModelCheckpoint(\n",
    "            filepath= f'Z:/Master I/PML - Practical Machine Learning/Jiani/checkpoints/model_my_cnn/{fold_n}/best_model.h5',\n",
    "            monitor='val_accuracy',\n",
    "            mode='max',\n",
    "            save_best_only=True,\n",
    "            verbose = True)\n",
    "\n",
    "        def scheduler_50_epochs(epoch, lr):\n",
    "            if epoch < 20:\n",
    "                return lr\n",
    "            elif epoch < 30:\n",
    "                return lr * tf.math.exp(-0.1)\n",
    "            elif epoch <= 50:\n",
    "                return lr * tf.math.exp(-0.01)\n",
    "            else :\n",
    "                return lr\n",
    "\n",
    "        lr_schedule_callback = tf.keras.callbacks.LearningRateScheduler(scheduler_50_epochs)\n",
    "\n",
    "        # callback to save tensorboard logs for later visualization\n",
    "        log_dir = \"Z:/Master I/PML - Practical Machine Learning/Jiani/checkpoints/model_my_cnn/logs/fit/\" + datetime.datetime.now().strftime(\"%Y%m%d-%H%M%S\")\n",
    "        tensorboard_callback = tf.keras.callbacks.TensorBoard(log_dir=log_dir, histogram_freq=1)\n",
    "\n",
    "        # Fit data to model\n",
    "        history = model.fit(train_images[train], train_labels[train],\n",
    "                            initial_epoch=0,\n",
    "                            batch_size=32,\n",
    "                            epochs=epochs,\n",
    "                            validation_data=[train_images[test], train_labels[test]],\n",
    "                            callbacks=[lr_schedule_callback, model_checkpoint_callback,tensorboard_callback])\n",
    "\n",
    "        # Generate generalization metrics\n",
    "        # model.load_weights(f'Z:/Master I/PML - Practical Machine Learning/Jiani/checkpoints/model_my_cnn/{fold_n}/best_checkpoint.ckpt')\n",
    "\n",
    "        model = load_model(f\"Z:/Master I/PML - Practical Machine Learning/Jiani/checkpoints/model_my_cnn/{fold_n}/best_model.h5\")\n",
    "        scores = model.evaluate(train_images[test], train_labels[test], verbose=0)\n",
    "        print(f'Score for fold {fold_n}: {model.metrics_names[0]} of {scores[0]}; {model.metrics_names[1]} of {scores[1]*100}%')\n",
    "        acc_per_fold.append(scores[1] * 100)\n",
    "        loss_per_fold.append(scores[0])\n",
    "\n",
    "        # Increase fold number\n",
    "        fold_n += 1\n",
    "\n",
    "    # == Provide average scores ==\n",
    "    print('------------------------------------------------------------------------')\n",
    "    print('Score per fold')\n",
    "    for i in range(0, len(acc_per_fold)):\n",
    "        print('------------------------------------------------------------------------')\n",
    "        print(f'> Fold {i+1} - Loss: {loss_per_fold[i]} - Accuracy: {acc_per_fold[i]}%')\n",
    "        print('------------------------------------------------------------------------')\n",
    "        # test_loss, test_metrics = model.evaluate(test_data, test_labels, verbose=1) "
   ]
  },
  {
   "attachments": {},
   "cell_type": "markdown",
   "metadata": {},
   "source": [
    "##### Train "
   ]
  },
  {
   "cell_type": "code",
   "execution_count": 52,
   "metadata": {},
   "outputs": [
    {
     "name": "stdout",
     "output_type": "stream",
     "text": [
      "Train data is of shape: (112799, 28, 28, 1)\n",
      "Train labels is of shape: (112799, 1)\n",
      "Test data is of shape: (18799, 28, 28, 1)\n",
      "Test labels is of shape: (18799, 1)\n",
      "Model: \"sequential_12\"\n",
      "_________________________________________________________________\n",
      " Layer (type)                Output Shape              Param #   \n",
      "=================================================================\n",
      " conv2d_8 (Conv2D)           (None, 26, 26, 64)        640       \n",
      "                                                                 \n",
      " batch_normalization_6 (Batc  (None, 26, 26, 64)       256       \n",
      " hNormalization)                                                 \n",
      "                                                                 \n",
      " max_pooling2d_4 (MaxPooling  (None, 13, 13, 64)       0         \n",
      " 2D)                                                             \n",
      "                                                                 \n",
      " conv2d_9 (Conv2D)           (None, 11, 11, 128)       73856     \n",
      "                                                                 \n",
      " batch_normalization_7 (Batc  (None, 11, 11, 128)      512       \n",
      " hNormalization)                                                 \n",
      "                                                                 \n",
      " conv2d_10 (Conv2D)          (None, 9, 9, 256)         295168    \n",
      "                                                                 \n",
      " batch_normalization_8 (Batc  (None, 9, 9, 256)        1024      \n",
      " hNormalization)                                                 \n",
      "                                                                 \n",
      " max_pooling2d_5 (MaxPooling  (None, 4, 4, 256)        0         \n",
      " 2D)                                                             \n",
      "                                                                 \n",
      " conv2d_11 (Conv2D)          (None, 2, 2, 256)         590080    \n",
      "                                                                 \n",
      " flatten_2 (Flatten)         (None, 1024)              0         \n",
      "                                                                 \n",
      " dense_23 (Dense)            (None, 256)               262400    \n",
      "                                                                 \n",
      " dropout_2 (Dropout)         (None, 256)               0         \n",
      "                                                                 \n",
      " dense_24 (Dense)            (None, 47)                12079     \n",
      "                                                                 \n",
      "=================================================================\n",
      "Total params: 1,236,015\n",
      "Trainable params: 1,235,119\n",
      "Non-trainable params: 896\n",
      "_________________________________________________________________\n",
      "------------------------------------------------------------------------\n",
      "Training for fold 1 ...\n",
      "Epoch 1/50\n",
      "2818/2820 [============================>.] - ETA: 0s - loss: 0.8357 - accuracy: 0.7447\n",
      "Epoch 1: val_accuracy improved from -inf to 0.82660, saving model to Z:/Master I/PML - Practical Machine Learning/Jiani/checkpoints/model_my_cnn/1\\best_model.h5\n",
      "2820/2820 [==============================] - 78s 25ms/step - loss: 0.8357 - accuracy: 0.7447 - val_loss: 0.5043 - val_accuracy: 0.8266 - lr: 0.0010\n",
      "Epoch 2/50\n",
      " 310/2820 [==>...........................] - ETA: 53s - loss: 0.5094 - accuracy: 0.8329"
     ]
    },
    {
     "ename": "KeyboardInterrupt",
     "evalue": "",
     "output_type": "error",
     "traceback": [
      "\u001b[1;31m---------------------------------------------------------------------------\u001b[0m",
      "\u001b[1;31mKeyboardInterrupt\u001b[0m                         Traceback (most recent call last)",
      "Cell \u001b[1;32mIn[52], line 19\u001b[0m\n\u001b[0;32m     16\u001b[0m model\u001b[39m.\u001b[39msummary()\n\u001b[0;32m     18\u001b[0m \u001b[39m# train \u001b[39;00m\n\u001b[1;32m---> 19\u001b[0m train_cross_fold_save_best_model(model,\n\u001b[0;32m     20\u001b[0m                                  train_images,\n\u001b[0;32m     21\u001b[0m                                  train_labels,\n\u001b[0;32m     22\u001b[0m                                  test_images,\n\u001b[0;32m     23\u001b[0m                                  test_labels,\n\u001b[0;32m     24\u001b[0m                                  \u001b[39m\"\u001b[39;49m\u001b[39m\"\u001b[39;49m,\n\u001b[0;32m     25\u001b[0m                                  \u001b[39m50\u001b[39;49m)\n",
      "Cell \u001b[1;32mIn[51], line 43\u001b[0m, in \u001b[0;36mtrain_cross_fold_save_best_model\u001b[1;34m(model, train_data, train_labels, test_data, test_labels, save_best_weights_path, epochs)\u001b[0m\n\u001b[0;32m     40\u001b[0m tensorboard_callback \u001b[39m=\u001b[39m tf\u001b[39m.\u001b[39mkeras\u001b[39m.\u001b[39mcallbacks\u001b[39m.\u001b[39mTensorBoard(log_dir\u001b[39m=\u001b[39mlog_dir, histogram_freq\u001b[39m=\u001b[39m\u001b[39m1\u001b[39m)\n\u001b[0;32m     42\u001b[0m \u001b[39m# Fit data to model\u001b[39;00m\n\u001b[1;32m---> 43\u001b[0m history \u001b[39m=\u001b[39m model\u001b[39m.\u001b[39;49mfit(train_images[train], train_labels[train],\n\u001b[0;32m     44\u001b[0m                     initial_epoch\u001b[39m=\u001b[39;49m\u001b[39m0\u001b[39;49m,\n\u001b[0;32m     45\u001b[0m                     batch_size\u001b[39m=\u001b[39;49m\u001b[39m32\u001b[39;49m,\n\u001b[0;32m     46\u001b[0m                     epochs\u001b[39m=\u001b[39;49mepochs,\n\u001b[0;32m     47\u001b[0m                     validation_data\u001b[39m=\u001b[39;49m[train_images[test], train_labels[test]],\n\u001b[0;32m     48\u001b[0m                     callbacks\u001b[39m=\u001b[39;49m[lr_schedule_callback, model_checkpoint_callback,tensorboard_callback])\n\u001b[0;32m     50\u001b[0m \u001b[39m# Generate generalization metrics\u001b[39;00m\n\u001b[0;32m     51\u001b[0m \u001b[39m# model.load_weights(f'Z:/Master I/PML - Practical Machine Learning/Jiani/checkpoints/model_my_cnn/{fold_n}/best_checkpoint.ckpt')\u001b[39;00m\n\u001b[0;32m     53\u001b[0m model \u001b[39m=\u001b[39m load_model(\u001b[39mf\u001b[39m\u001b[39m\"\u001b[39m\u001b[39mZ:/Master I/PML - Practical Machine Learning/Jiani/checkpoints/model_my_cnn/\u001b[39m\u001b[39m{\u001b[39;00mfold_n\u001b[39m}\u001b[39;00m\u001b[39m/best_model.h5\u001b[39m\u001b[39m\"\u001b[39m)\n",
      "File \u001b[1;32mz:\\anaconda3\\envs\\tf_det\\lib\\site-packages\\keras\\utils\\traceback_utils.py:64\u001b[0m, in \u001b[0;36mfilter_traceback.<locals>.error_handler\u001b[1;34m(*args, **kwargs)\u001b[0m\n\u001b[0;32m     62\u001b[0m filtered_tb \u001b[39m=\u001b[39m \u001b[39mNone\u001b[39;00m\n\u001b[0;32m     63\u001b[0m \u001b[39mtry\u001b[39;00m:\n\u001b[1;32m---> 64\u001b[0m   \u001b[39mreturn\u001b[39;00m fn(\u001b[39m*\u001b[39margs, \u001b[39m*\u001b[39m\u001b[39m*\u001b[39mkwargs)\n\u001b[0;32m     65\u001b[0m \u001b[39mexcept\u001b[39;00m \u001b[39mException\u001b[39;00m \u001b[39mas\u001b[39;00m e:  \u001b[39m# pylint: disable=broad-except\u001b[39;00m\n\u001b[0;32m     66\u001b[0m   filtered_tb \u001b[39m=\u001b[39m _process_traceback_frames(e\u001b[39m.\u001b[39m__traceback__)\n",
      "File \u001b[1;32mz:\\anaconda3\\envs\\tf_det\\lib\\site-packages\\keras\\engine\\training.py:1409\u001b[0m, in \u001b[0;36mModel.fit\u001b[1;34m(self, x, y, batch_size, epochs, verbose, callbacks, validation_split, validation_data, shuffle, class_weight, sample_weight, initial_epoch, steps_per_epoch, validation_steps, validation_batch_size, validation_freq, max_queue_size, workers, use_multiprocessing)\u001b[0m\n\u001b[0;32m   1402\u001b[0m \u001b[39mwith\u001b[39;00m tf\u001b[39m.\u001b[39mprofiler\u001b[39m.\u001b[39mexperimental\u001b[39m.\u001b[39mTrace(\n\u001b[0;32m   1403\u001b[0m     \u001b[39m'\u001b[39m\u001b[39mtrain\u001b[39m\u001b[39m'\u001b[39m,\n\u001b[0;32m   1404\u001b[0m     epoch_num\u001b[39m=\u001b[39mepoch,\n\u001b[0;32m   1405\u001b[0m     step_num\u001b[39m=\u001b[39mstep,\n\u001b[0;32m   1406\u001b[0m     batch_size\u001b[39m=\u001b[39mbatch_size,\n\u001b[0;32m   1407\u001b[0m     _r\u001b[39m=\u001b[39m\u001b[39m1\u001b[39m):\n\u001b[0;32m   1408\u001b[0m   callbacks\u001b[39m.\u001b[39mon_train_batch_begin(step)\n\u001b[1;32m-> 1409\u001b[0m   tmp_logs \u001b[39m=\u001b[39m \u001b[39mself\u001b[39;49m\u001b[39m.\u001b[39;49mtrain_function(iterator)\n\u001b[0;32m   1410\u001b[0m   \u001b[39mif\u001b[39;00m data_handler\u001b[39m.\u001b[39mshould_sync:\n\u001b[0;32m   1411\u001b[0m     context\u001b[39m.\u001b[39masync_wait()\n",
      "File \u001b[1;32mz:\\anaconda3\\envs\\tf_det\\lib\\site-packages\\tensorflow\\python\\util\\traceback_utils.py:150\u001b[0m, in \u001b[0;36mfilter_traceback.<locals>.error_handler\u001b[1;34m(*args, **kwargs)\u001b[0m\n\u001b[0;32m    148\u001b[0m filtered_tb \u001b[39m=\u001b[39m \u001b[39mNone\u001b[39;00m\n\u001b[0;32m    149\u001b[0m \u001b[39mtry\u001b[39;00m:\n\u001b[1;32m--> 150\u001b[0m   \u001b[39mreturn\u001b[39;00m fn(\u001b[39m*\u001b[39margs, \u001b[39m*\u001b[39m\u001b[39m*\u001b[39mkwargs)\n\u001b[0;32m    151\u001b[0m \u001b[39mexcept\u001b[39;00m \u001b[39mException\u001b[39;00m \u001b[39mas\u001b[39;00m e:\n\u001b[0;32m    152\u001b[0m   filtered_tb \u001b[39m=\u001b[39m _process_traceback_frames(e\u001b[39m.\u001b[39m__traceback__)\n",
      "File \u001b[1;32mz:\\anaconda3\\envs\\tf_det\\lib\\site-packages\\tensorflow\\python\\eager\\def_function.py:915\u001b[0m, in \u001b[0;36mFunction.__call__\u001b[1;34m(self, *args, **kwds)\u001b[0m\n\u001b[0;32m    912\u001b[0m compiler \u001b[39m=\u001b[39m \u001b[39m\"\u001b[39m\u001b[39mxla\u001b[39m\u001b[39m\"\u001b[39m \u001b[39mif\u001b[39;00m \u001b[39mself\u001b[39m\u001b[39m.\u001b[39m_jit_compile \u001b[39melse\u001b[39;00m \u001b[39m\"\u001b[39m\u001b[39mnonXla\u001b[39m\u001b[39m\"\u001b[39m\n\u001b[0;32m    914\u001b[0m \u001b[39mwith\u001b[39;00m OptionalXlaContext(\u001b[39mself\u001b[39m\u001b[39m.\u001b[39m_jit_compile):\n\u001b[1;32m--> 915\u001b[0m   result \u001b[39m=\u001b[39m \u001b[39mself\u001b[39m\u001b[39m.\u001b[39m_call(\u001b[39m*\u001b[39margs, \u001b[39m*\u001b[39m\u001b[39m*\u001b[39mkwds)\n\u001b[0;32m    917\u001b[0m new_tracing_count \u001b[39m=\u001b[39m \u001b[39mself\u001b[39m\u001b[39m.\u001b[39mexperimental_get_tracing_count()\n\u001b[0;32m    918\u001b[0m without_tracing \u001b[39m=\u001b[39m (tracing_count \u001b[39m==\u001b[39m new_tracing_count)\n",
      "File \u001b[1;32mz:\\anaconda3\\envs\\tf_det\\lib\\site-packages\\tensorflow\\python\\eager\\def_function.py:947\u001b[0m, in \u001b[0;36mFunction._call\u001b[1;34m(self, *args, **kwds)\u001b[0m\n\u001b[0;32m    944\u001b[0m   \u001b[39mself\u001b[39m\u001b[39m.\u001b[39m_lock\u001b[39m.\u001b[39mrelease()\n\u001b[0;32m    945\u001b[0m   \u001b[39m# In this case we have created variables on the first call, so we run the\u001b[39;00m\n\u001b[0;32m    946\u001b[0m   \u001b[39m# defunned version which is guaranteed to never create variables.\u001b[39;00m\n\u001b[1;32m--> 947\u001b[0m   \u001b[39mreturn\u001b[39;00m \u001b[39mself\u001b[39m\u001b[39m.\u001b[39m_stateless_fn(\u001b[39m*\u001b[39margs, \u001b[39m*\u001b[39m\u001b[39m*\u001b[39mkwds)  \u001b[39m# pylint: disable=not-callable\u001b[39;00m\n\u001b[0;32m    948\u001b[0m \u001b[39melif\u001b[39;00m \u001b[39mself\u001b[39m\u001b[39m.\u001b[39m_stateful_fn \u001b[39mis\u001b[39;00m \u001b[39mnot\u001b[39;00m \u001b[39mNone\u001b[39;00m:\n\u001b[0;32m    949\u001b[0m   \u001b[39m# Release the lock early so that multiple threads can perform the call\u001b[39;00m\n\u001b[0;32m    950\u001b[0m   \u001b[39m# in parallel.\u001b[39;00m\n\u001b[0;32m    951\u001b[0m   \u001b[39mself\u001b[39m\u001b[39m.\u001b[39m_lock\u001b[39m.\u001b[39mrelease()\n",
      "File \u001b[1;32mz:\\anaconda3\\envs\\tf_det\\lib\\site-packages\\tensorflow\\python\\eager\\function.py:2453\u001b[0m, in \u001b[0;36mFunction.__call__\u001b[1;34m(self, *args, **kwargs)\u001b[0m\n\u001b[0;32m   2450\u001b[0m \u001b[39mwith\u001b[39;00m \u001b[39mself\u001b[39m\u001b[39m.\u001b[39m_lock:\n\u001b[0;32m   2451\u001b[0m   (graph_function,\n\u001b[0;32m   2452\u001b[0m    filtered_flat_args) \u001b[39m=\u001b[39m \u001b[39mself\u001b[39m\u001b[39m.\u001b[39m_maybe_define_function(args, kwargs)\n\u001b[1;32m-> 2453\u001b[0m \u001b[39mreturn\u001b[39;00m graph_function\u001b[39m.\u001b[39;49m_call_flat(\n\u001b[0;32m   2454\u001b[0m     filtered_flat_args, captured_inputs\u001b[39m=\u001b[39;49mgraph_function\u001b[39m.\u001b[39;49mcaptured_inputs)\n",
      "File \u001b[1;32mz:\\anaconda3\\envs\\tf_det\\lib\\site-packages\\tensorflow\\python\\eager\\function.py:1860\u001b[0m, in \u001b[0;36mConcreteFunction._call_flat\u001b[1;34m(self, args, captured_inputs, cancellation_manager)\u001b[0m\n\u001b[0;32m   1856\u001b[0m possible_gradient_type \u001b[39m=\u001b[39m gradients_util\u001b[39m.\u001b[39mPossibleTapeGradientTypes(args)\n\u001b[0;32m   1857\u001b[0m \u001b[39mif\u001b[39;00m (possible_gradient_type \u001b[39m==\u001b[39m gradients_util\u001b[39m.\u001b[39mPOSSIBLE_GRADIENT_TYPES_NONE\n\u001b[0;32m   1858\u001b[0m     \u001b[39mand\u001b[39;00m executing_eagerly):\n\u001b[0;32m   1859\u001b[0m   \u001b[39m# No tape is watching; skip to running the function.\u001b[39;00m\n\u001b[1;32m-> 1860\u001b[0m   \u001b[39mreturn\u001b[39;00m \u001b[39mself\u001b[39m\u001b[39m.\u001b[39m_build_call_outputs(\u001b[39mself\u001b[39;49m\u001b[39m.\u001b[39;49m_inference_function\u001b[39m.\u001b[39;49mcall(\n\u001b[0;32m   1861\u001b[0m       ctx, args, cancellation_manager\u001b[39m=\u001b[39;49mcancellation_manager))\n\u001b[0;32m   1862\u001b[0m forward_backward \u001b[39m=\u001b[39m \u001b[39mself\u001b[39m\u001b[39m.\u001b[39m_select_forward_and_backward_functions(\n\u001b[0;32m   1863\u001b[0m     args,\n\u001b[0;32m   1864\u001b[0m     possible_gradient_type,\n\u001b[0;32m   1865\u001b[0m     executing_eagerly)\n\u001b[0;32m   1866\u001b[0m forward_function, args_with_tangents \u001b[39m=\u001b[39m forward_backward\u001b[39m.\u001b[39mforward()\n",
      "File \u001b[1;32mz:\\anaconda3\\envs\\tf_det\\lib\\site-packages\\tensorflow\\python\\eager\\function.py:497\u001b[0m, in \u001b[0;36m_EagerDefinedFunction.call\u001b[1;34m(self, ctx, args, cancellation_manager)\u001b[0m\n\u001b[0;32m    495\u001b[0m \u001b[39mwith\u001b[39;00m _InterpolateFunctionError(\u001b[39mself\u001b[39m):\n\u001b[0;32m    496\u001b[0m   \u001b[39mif\u001b[39;00m cancellation_manager \u001b[39mis\u001b[39;00m \u001b[39mNone\u001b[39;00m:\n\u001b[1;32m--> 497\u001b[0m     outputs \u001b[39m=\u001b[39m execute\u001b[39m.\u001b[39;49mexecute(\n\u001b[0;32m    498\u001b[0m         \u001b[39mstr\u001b[39;49m(\u001b[39mself\u001b[39;49m\u001b[39m.\u001b[39;49msignature\u001b[39m.\u001b[39;49mname),\n\u001b[0;32m    499\u001b[0m         num_outputs\u001b[39m=\u001b[39;49m\u001b[39mself\u001b[39;49m\u001b[39m.\u001b[39;49m_num_outputs,\n\u001b[0;32m    500\u001b[0m         inputs\u001b[39m=\u001b[39;49margs,\n\u001b[0;32m    501\u001b[0m         attrs\u001b[39m=\u001b[39;49mattrs,\n\u001b[0;32m    502\u001b[0m         ctx\u001b[39m=\u001b[39;49mctx)\n\u001b[0;32m    503\u001b[0m   \u001b[39melse\u001b[39;00m:\n\u001b[0;32m    504\u001b[0m     outputs \u001b[39m=\u001b[39m execute\u001b[39m.\u001b[39mexecute_with_cancellation(\n\u001b[0;32m    505\u001b[0m         \u001b[39mstr\u001b[39m(\u001b[39mself\u001b[39m\u001b[39m.\u001b[39msignature\u001b[39m.\u001b[39mname),\n\u001b[0;32m    506\u001b[0m         num_outputs\u001b[39m=\u001b[39m\u001b[39mself\u001b[39m\u001b[39m.\u001b[39m_num_outputs,\n\u001b[1;32m   (...)\u001b[0m\n\u001b[0;32m    509\u001b[0m         ctx\u001b[39m=\u001b[39mctx,\n\u001b[0;32m    510\u001b[0m         cancellation_manager\u001b[39m=\u001b[39mcancellation_manager)\n",
      "File \u001b[1;32mz:\\anaconda3\\envs\\tf_det\\lib\\site-packages\\tensorflow\\python\\eager\\execute.py:54\u001b[0m, in \u001b[0;36mquick_execute\u001b[1;34m(op_name, num_outputs, inputs, attrs, ctx, name)\u001b[0m\n\u001b[0;32m     52\u001b[0m \u001b[39mtry\u001b[39;00m:\n\u001b[0;32m     53\u001b[0m   ctx\u001b[39m.\u001b[39mensure_initialized()\n\u001b[1;32m---> 54\u001b[0m   tensors \u001b[39m=\u001b[39m pywrap_tfe\u001b[39m.\u001b[39;49mTFE_Py_Execute(ctx\u001b[39m.\u001b[39;49m_handle, device_name, op_name,\n\u001b[0;32m     55\u001b[0m                                       inputs, attrs, num_outputs)\n\u001b[0;32m     56\u001b[0m \u001b[39mexcept\u001b[39;00m core\u001b[39m.\u001b[39m_NotOkStatusException \u001b[39mas\u001b[39;00m e:\n\u001b[0;32m     57\u001b[0m   \u001b[39mif\u001b[39;00m name \u001b[39mis\u001b[39;00m \u001b[39mnot\u001b[39;00m \u001b[39mNone\u001b[39;00m:\n",
      "\u001b[1;31mKeyboardInterrupt\u001b[0m: "
     ]
    }
   ],
   "source": [
    "# load data\n",
    "train_images, train_labels, test_images, test_labels = get_emnist_data('Z:/Master I/PML - Practical Machine Learning/Jiani/data')\n",
    "\n",
    "# create model\n",
    "optimizer = tf.keras.optimizers.Adam(learning_rate=0.001)\n",
    "loss_fn = tf.keras.losses.CategoricalCrossentropy(from_logits=False)\n",
    "metrics=['accuracy',]\n",
    "\n",
    "model = get_model(\"cnn\",\n",
    "                  optimizer,\n",
    "                  loss_fn,\n",
    "                  metrics,\n",
    "                  47,\n",
    "                  used_input_shape=(28, 28, 1),\n",
    "                  trainable = False)\n",
    "model.summary()\n",
    "\n",
    "# train \n",
    "train_cross_fold_save_best_model(model,\n",
    "                                 train_images,\n",
    "                                 train_labels,\n",
    "                                 test_images,\n",
    "                                 test_labels,\n",
    "                                 \"\",\n",
    "                                 50)"
   ]
  },
  {
   "attachments": {},
   "cell_type": "markdown",
   "metadata": {},
   "source": [
    "##### Load best CNN model and save in the tflite format"
   ]
  },
  {
   "cell_type": "code",
   "execution_count": 43,
   "metadata": {},
   "outputs": [
    {
     "name": "stdout",
     "output_type": "stream",
     "text": [
      "Model: \"sequential_6\"\n",
      "_________________________________________________________________\n",
      " Layer (type)                Output Shape              Param #   \n",
      "=================================================================\n",
      " conv2d_19 (Conv2D)          (None, 26, 26, 64)        640       \n",
      "                                                                 \n",
      " batch_normalization_12 (Bat  (None, 26, 26, 64)       256       \n",
      " chNormalization)                                                \n",
      "                                                                 \n",
      " max_pooling2d_11 (MaxPoolin  (None, 13, 13, 64)       0         \n",
      " g2D)                                                            \n",
      "                                                                 \n",
      " conv2d_20 (Conv2D)          (None, 11, 11, 128)       73856     \n",
      "                                                                 \n",
      " batch_normalization_13 (Bat  (None, 11, 11, 128)      512       \n",
      " chNormalization)                                                \n",
      "                                                                 \n",
      " conv2d_21 (Conv2D)          (None, 9, 9, 256)         295168    \n",
      "                                                                 \n",
      " batch_normalization_14 (Bat  (None, 9, 9, 256)        1024      \n",
      " chNormalization)                                                \n",
      "                                                                 \n",
      " max_pooling2d_12 (MaxPoolin  (None, 4, 4, 256)        0         \n",
      " g2D)                                                            \n",
      "                                                                 \n",
      " conv2d_22 (Conv2D)          (None, 2, 2, 256)         590080    \n",
      "                                                                 \n",
      " flatten_4 (Flatten)         (None, 1024)              0         \n",
      "                                                                 \n",
      " dense_9 (Dense)             (None, 256)               262400    \n",
      "                                                                 \n",
      " dropout_10 (Dropout)        (None, 256)               0         \n",
      "                                                                 \n",
      " dense_10 (Dense)            (None, 47)                12079     \n",
      "                                                                 \n",
      "=================================================================\n",
      "Total params: 1,236,015\n",
      "Trainable params: 1,235,119\n",
      "Non-trainable params: 896\n",
      "_________________________________________________________________\n"
     ]
    },
    {
     "name": "stderr",
     "output_type": "stream",
     "text": [
      "WARNING:absl:Found untraced functions such as _jit_compiled_convolution_op, _jit_compiled_convolution_op, _jit_compiled_convolution_op, _jit_compiled_convolution_op while saving (showing 4 of 4). These functions will not be directly callable after loading.\n"
     ]
    },
    {
     "name": "stdout",
     "output_type": "stream",
     "text": [
      "INFO:tensorflow:Assets written to: C:\\Users\\test\\AppData\\Local\\Temp\\tmpmg8h53pr\\assets\n"
     ]
    },
    {
     "name": "stderr",
     "output_type": "stream",
     "text": [
      "INFO:tensorflow:Assets written to: C:\\Users\\test\\AppData\\Local\\Temp\\tmpmg8h53pr\\assets\n"
     ]
    }
   ],
   "source": [
    "from tensorflow.keras.models import load_model\n",
    "\n",
    "fold_n = 1\n",
    "\n",
    "model = load_model(f\"Jiani/checkpoints/model_my_cnn/{fold_n}/best_model.h5\")\n",
    "model.summary()\n",
    "\n",
    "save_name = \"my_cnn_best_model\"\n",
    "save_model_as_tflite_file(model,f\"Jiani/checkpoints/model_my_cnn/{fold_n}/\",save_name)"
   ]
  },
  {
   "attachments": {},
   "cell_type": "markdown",
   "metadata": {},
   "source": [
    "## 3. NL-CNN model"
   ]
  },
  {
   "attachments": {},
   "cell_type": "markdown",
   "metadata": {},
   "source": [
    "#### Method used to create the model"
   ]
  },
  {
   "cell_type": "code",
   "execution_count": 17,
   "metadata": {},
   "outputs": [],
   "source": [
    "# code from : https://github.com/radu-dogaru/NL-CNN-a-compact-fast-trainable-convolutional-neural-net/blob/main/nl_cnn_demos.ipynb\n",
    "\n",
    "# NL_CNN MODEL \n",
    "# Returns a precompiled model with a specific optimizer included \n",
    "#==============================================================================================\n",
    "from tensorflow.keras.models import Sequential\n",
    "#from keras.layers.normalization import BatchNormalization\n",
    "from tensorflow.keras.layers  import BatchNormalization\n",
    "from tensorflow.keras.layers import Dense, Dropout, Flatten, Activation\n",
    "from tensorflow.keras.layers import Conv2D, DepthwiseConv2D, MaxPooling2D, AveragePooling2D, GlobalAveragePooling2D, SeparableConv2D  # straturi convolutionale si max-pooling \n",
    "from tensorflow.keras.optimizers import  SGD, Adadelta, Adam, Nadam\n",
    "\n",
    "\n",
    "def create_nl_cnn_model(input_shape, num_classes, k=1.5,separ=0, flat=0, width=80, nl=(3,2), add_layer=0):\n",
    "  # Arguments: k - multiplication coefficient \n",
    "  # Structure parameteres \n",
    "  kfil=k\n",
    "  filtre1=width ; filtre2=int(kfil*filtre1) ; filtre3=(kfil*filtre2)  # filters (kernels) per each layer - efic. pe primul \n",
    "  nr_conv=3 # 0, 1, 2 sau 3  (number of convolution layers)\n",
    "  csize1=3; csize2=3 ; csize3=3      # convolution kernel size (square kernel) \n",
    "  psize1=4; psize2=4 ; psize3=4      # pooling size (square)\n",
    "  str1=2; str2=2; str3=2             # stride pooling (downsampling rate) \n",
    "  pad='same'; # padding style ('valid' is also an alternative)\n",
    "  nonlinlayers1=nl[0]  # total of layers (with RELU nonlin) in the first maxpool layer  # De parametrizat asta \n",
    "  nonlinlayers2=nl[1]  # \n",
    "\n",
    "  nonlin_type='relu' # may be other as well 'tanh' 'elu' 'softsign'\n",
    "  bndrop=1 # include BatchNorm inainte de MaxPool si drop(0.3) dupa .. \n",
    "  cvdrop=1 # droput \n",
    "  drop_cv=0.5\n",
    "  \n",
    "  model = Sequential()\n",
    "  # convolution layer1  ==========================================================================\n",
    "  # Initially first layer was always a Conv2D one\n",
    "  if separ==1:\n",
    "    model.add( SeparableConv2D(filtre1, padding=pad, kernel_size=(csize1, csize1), input_shape=input_shape) )\n",
    "  elif separ==0: \n",
    "    model.add( Conv2D(filtre1, padding=pad, kernel_size=(csize1, csize1), input_shape=input_shape) )\n",
    "\n",
    "  # next are the additional layers \n",
    "  for nl in range(nonlinlayers1-1):\n",
    "    model.add(Activation(nonlin_type))  # Activ NL-CNN-1\n",
    "    if separ==1:\n",
    "      model.add(SeparableConv2D(filtre1, padding=pad, kernel_size=(csize1, csize1) ) ) # Activ NL-CNN-2\n",
    "    elif separ==0:\n",
    "      model.add(Conv2D(filtre1, padding=pad, kernel_size=(csize1, csize1)) ) # Activ NL-CNN-2\n",
    "  #  MaxPool in the end of the module \n",
    "  if bndrop==1:\n",
    "    model.add(BatchNormalization())\n",
    "  model.add(MaxPooling2D(pool_size=(psize1, psize1),strides=(str1,str1),padding=pad))\n",
    "  if cvdrop==1:\n",
    "    model.add(Dropout(drop_cv))\n",
    "  \n",
    "  # NL LAYER 2 =======================================================================================================\n",
    " \n",
    "  if separ==1:\n",
    "    model.add(SeparableConv2D(filtre2, padding=pad, kernel_size=(csize2, csize2)) )\n",
    "  elif separ==0:\n",
    "    model.add(Conv2D(filtre2, padding=pad, kernel_size=(csize2, csize2)) )\n",
    "  # aici se adauga un neliniar \n",
    "    \n",
    "  #=========== unul extra NL=2 pe strat 2 =====================\n",
    "  for nl in range(nonlinlayers2-1):\n",
    "    model.add(Activation(nonlin_type))  # Activ NL-CNN-1\n",
    "    if separ==1:\n",
    "        model.add(SeparableConv2D(filtre2, padding=pad, kernel_size=(csize2, csize2)) ) # Activ NL-CNN-2\n",
    "    elif separ==0:\n",
    "        model.add(Conv2D(filtre2, padding=pad, kernel_size=(csize2, csize2)) ) # Activ NL-CNN-2\n",
    "        \n",
    "  # OUTPUT OF LAYER 2 (MAX-POOL)\n",
    "  if bndrop==1:\n",
    "      model.add(BatchNormalization())\n",
    "  model.add(MaxPooling2D(pool_size=(psize2, psize2),strides=(str2,str2),padding=pad))\n",
    "  if cvdrop==1:\n",
    "      model.add(Dropout(drop_cv))\n",
    "  #-------------------------------------------------------------------------------------------\n",
    "  # LAYER 3 \n",
    "      \n",
    "  if separ==1:\n",
    "      model.add(SeparableConv2D(filtre3, padding=pad, kernel_size=(csize3, csize3)) )  # SeparableConv\n",
    "  elif separ==0:\n",
    "      model.add(Conv2D(filtre3, padding=pad, kernel_size=(csize3, csize3)) ) # Activ NL-CNN-2\n",
    "  # OUTPUT OF LAYER 3 \n",
    "  if bndrop==1:\n",
    "      model.add(BatchNormalization())\n",
    "  model.add(MaxPooling2D(pool_size=(psize3, psize3),strides=(str3,str3),padding=pad))\n",
    "  if cvdrop==1:\n",
    "      model.add(Dropout(drop_cv))\n",
    "  #------------------- \n",
    "  # \n",
    "  # LAYER 4  (only if requested - for large images ?? )\n",
    "  if add_layer==1:    \n",
    "    if separ==1:\n",
    "      model.add(SeparableConv2D(1.2*filtre3, padding=pad, kernel_size=(csize3, csize3)) )  # SeparableConv\n",
    "    elif separ==0:\n",
    "      model.add(Conv2D(1.2*filtre3, padding=pad, kernel_size=(csize3, csize3)) ) # Activ NL-CNN-2\n",
    "    # OUTPUT OF LAYER 4\n",
    "    if bndrop==1:\n",
    "      model.add(BatchNormalization())\n",
    "    model.add(MaxPooling2D(pool_size=(psize3, psize3),strides=(str3,str3),padding=pad))\n",
    "    if cvdrop==1:\n",
    "      model.add(Dropout(drop_cv))\n",
    "  #========================================================================================\n",
    "  # INPUT TO DENSE LAYER (FLATTEN - more data can overfit / GLOBAL - less data - may be a good choice ) \n",
    "  if flat==1:\n",
    "      model.add(Flatten())  # \n",
    "  elif flat==0:\n",
    "      model.add(GlobalAveragePooling2D()) # Global average \n",
    "   \n",
    "  model.add(Dense(num_classes, activation='softmax'))\n",
    "  # END OF MODEL DESCRIPTION \n",
    "  # ------------------ COMPILE THE MODEL\n",
    "  myopt = Adam()\n",
    "  #myopt = Nadam()\n",
    "  if separ==1:\n",
    "    myopt = RMSprop(lr=0.01) \n",
    "    #myopt = Adam(lr=0.05)\n",
    "\n",
    "  # --------------------------   LOSS function  ------------------------------------\n",
    "  my_loss='categorical_crossentropy'\n",
    "  model.compile(loss=my_loss, \n",
    "              optimizer=myopt,   \n",
    "              metrics=['accuracy'])\n",
    "\n",
    "  return model"
   ]
  },
  {
   "attachments": {},
   "cell_type": "markdown",
   "metadata": {},
   "source": [
    "#### Train"
   ]
  },
  {
   "cell_type": "code",
   "execution_count": null,
   "metadata": {},
   "outputs": [],
   "source": [
    "# load data\n",
    "train_images, train_labels, test_images, test_labels = get_emnist_data()\n",
    "\n",
    "# create data generators\n",
    "train_gen = DataGenerator(train_images,\n",
    "                          train_labels,\n",
    "                          32,\n",
    "                          (32,32),\n",
    "                          True)\n",
    "test_gen = DataGenerator(test_images,\n",
    "                         test_labels,\n",
    "                         32,\n",
    "                         (32,32),\n",
    "                          True)\n",
    "\n",
    "# create model\n",
    "model = create_nl_cnn_model((32, 32, 3), 47, k=2, separ=0, flat=1, width=40, nl=(2,2), add_layer=0)\n",
    "model.summary()\n",
    "\n",
    "# create necessary checkpoints\n",
    "model_checkpoint_callback = ModelCheckpoint(filepath= f'Jiani/checkpoints/nl_cnn/best_model.h5',\n",
    "                                            monitor='val_accuracy',\n",
    "                                            mode='max',\n",
    "                                            save_best_only=True,\n",
    "                                            verbose = True)\n",
    "\n",
    "# callback to save tensorboard logs for later visualization\n",
    "log_dir = \"Z:/Master I/PML - Practical Machine Learning/Jiani/checkpoints/nl_cnn/logs/fit/\" + datetime.datetime.now().strftime(\"%Y%m%d-%H%M%S\")\n",
    "tensorboard_callback = tf.keras.callbacks.TensorBoard(log_dir=log_dir, histogram_freq=1)\n",
    "\n",
    "# train\n",
    "history = model.fit(train_gen,\n",
    "                    epochs=100,\n",
    "                    validation_data=test_gen,\n",
    "                    callbacks=[model_checkpoint_callback, tensorboard_callback])"
   ]
  },
  {
   "attachments": {},
   "cell_type": "markdown",
   "metadata": {},
   "source": [
    "##### Load best NL-CNN model and save in the tflite format"
   ]
  },
  {
   "cell_type": "code",
   "execution_count": 33,
   "metadata": {},
   "outputs": [
    {
     "name": "stdout",
     "output_type": "stream",
     "text": [
      "Model: \"sequential_2\"\n",
      "_________________________________________________________________\n",
      " Layer (type)                Output Shape              Param #   \n",
      "=================================================================\n",
      " conv2d_10 (Conv2D)          (None, 32, 32, 40)        1120      \n",
      "                                                                 \n",
      " activation_4 (Activation)   (None, 32, 32, 40)        0         \n",
      "                                                                 \n",
      " conv2d_11 (Conv2D)          (None, 32, 32, 40)        14440     \n",
      "                                                                 \n",
      " batch_normalization_6 (Batc  (None, 32, 32, 40)       160       \n",
      " hNormalization)                                                 \n",
      "                                                                 \n",
      " max_pooling2d_6 (MaxPooling  (None, 16, 16, 40)       0         \n",
      " 2D)                                                             \n",
      "                                                                 \n",
      " dropout_6 (Dropout)         (None, 16, 16, 40)        0         \n",
      "                                                                 \n",
      " conv2d_12 (Conv2D)          (None, 16, 16, 80)        28880     \n",
      "                                                                 \n",
      " activation_5 (Activation)   (None, 16, 16, 80)        0         \n",
      "                                                                 \n",
      " conv2d_13 (Conv2D)          (None, 16, 16, 80)        57680     \n",
      "                                                                 \n",
      " batch_normalization_7 (Batc  (None, 16, 16, 80)       320       \n",
      " hNormalization)                                                 \n",
      "                                                                 \n",
      " max_pooling2d_7 (MaxPooling  (None, 8, 8, 80)         0         \n",
      " 2D)                                                             \n",
      "                                                                 \n",
      " dropout_7 (Dropout)         (None, 8, 8, 80)          0         \n",
      "                                                                 \n",
      " conv2d_14 (Conv2D)          (None, 8, 8, 160)         115360    \n",
      "                                                                 \n",
      " batch_normalization_8 (Batc  (None, 8, 8, 160)        640       \n",
      " hNormalization)                                                 \n",
      "                                                                 \n",
      " max_pooling2d_8 (MaxPooling  (None, 4, 4, 160)        0         \n",
      " 2D)                                                             \n",
      "                                                                 \n",
      " dropout_8 (Dropout)         (None, 4, 4, 160)         0         \n",
      "                                                                 \n",
      " flatten_2 (Flatten)         (None, 2560)              0         \n",
      "                                                                 \n",
      " dense_2 (Dense)             (None, 47)                120367    \n",
      "                                                                 \n",
      "=================================================================\n",
      "Total params: 338,967\n",
      "Trainable params: 338,407\n",
      "Non-trainable params: 560\n",
      "_________________________________________________________________\n"
     ]
    },
    {
     "name": "stderr",
     "output_type": "stream",
     "text": [
      "WARNING:absl:Found untraced functions such as _jit_compiled_convolution_op, _jit_compiled_convolution_op, _jit_compiled_convolution_op, _jit_compiled_convolution_op, _jit_compiled_convolution_op while saving (showing 5 of 5). These functions will not be directly callable after loading.\n"
     ]
    },
    {
     "name": "stdout",
     "output_type": "stream",
     "text": [
      "INFO:tensorflow:Assets written to: C:\\Users\\test\\AppData\\Local\\Temp\\tmps55b9f_0\\assets\n"
     ]
    },
    {
     "name": "stderr",
     "output_type": "stream",
     "text": [
      "INFO:tensorflow:Assets written to: C:\\Users\\test\\AppData\\Local\\Temp\\tmps55b9f_0\\assets\n"
     ]
    }
   ],
   "source": [
    "from tensorflow.keras.models import load_model\n",
    "\n",
    "model = load_model(\"Jiani/checkpoints/nl_cnn/best_model.h5\")\n",
    "model.summary()\n",
    "\n",
    "save_name = \"nl_cnn_best_model\"\n",
    "save_model_as_tflite_file(model,\"Jiani/checkpoints/nl_cnn/\",save_name)"
   ]
  },
  {
   "attachments": {},
   "cell_type": "markdown",
   "metadata": {},
   "source": [
    "### CONCLUSION"
   ]
  },
  {
   "cell_type": "code",
   "execution_count": 7,
   "metadata": {},
   "outputs": [
    {
     "name": "stdout",
     "output_type": "stream",
     "text": [
      "Train data is of shape: (100000, 28, 28, 1)\n",
      "Train labels is of shape: (100000, 1)\n",
      "Test data is of shape: (12799, 28, 28, 1)\n",
      "Test labels is of shape: (12799, 1)\n",
      "400/400 [==============================] - 4s 8ms/step - loss: 0.5183 - accuracy: 0.8798\n"
     ]
    },
    {
     "name": "stderr",
     "output_type": "stream",
     "text": [
      "INFO:root:Loading dataset = emnist\n",
      "WARNING:root:Please cite the following paper when using or referencing this Extra Keras Dataset:\n",
      "WARNING:root:Cohen, G., Afshar, S., Tapson, J., & van Schaik, A. (2017). EMNIST: an extension of MNIST to handwritten letters. Retrieved from http://arxiv.org/abs/1702.05373\n"
     ]
    },
    {
     "name": "stdout",
     "output_type": "stream",
     "text": [
      "Train data is of shape: (112800, 28, 28, 1)\n",
      "Train labels is of shape: (112800,)\n",
      "Test data is of shape: (18800, 28, 28, 1)\n",
      "Test labels is of shape: (18800,)\n",
      "588/588 [==============================] - 13s 21ms/step - loss: 1.4008 - accuracy: 0.6063\n"
     ]
    },
    {
     "name": "stderr",
     "output_type": "stream",
     "text": [
      "INFO:root:Loading dataset = emnist\n",
      "WARNING:root:Please cite the following paper when using or referencing this Extra Keras Dataset:\n",
      "WARNING:root:Cohen, G., Afshar, S., Tapson, J., & van Schaik, A. (2017). EMNIST: an extension of MNIST to handwritten letters. Retrieved from http://arxiv.org/abs/1702.05373\n"
     ]
    },
    {
     "name": "stdout",
     "output_type": "stream",
     "text": [
      "Train data is of shape: (112800, 28, 28, 1)\n",
      "Train labels is of shape: (112800,)\n",
      "Test data is of shape: (18800, 28, 28, 1)\n",
      "Test labels is of shape: (18800,)\n",
      "588/588 [==============================] - 13s 20ms/step - loss: 0.4131 - accuracy: 0.8881\n"
     ]
    },
    {
     "name": "stderr",
     "output_type": "stream",
     "text": [
      "INFO:root:Loading dataset = emnist\n",
      "WARNING:root:Please cite the following paper when using or referencing this Extra Keras Dataset:\n",
      "WARNING:root:Cohen, G., Afshar, S., Tapson, J., & van Schaik, A. (2017). EMNIST: an extension of MNIST to handwritten letters. Retrieved from http://arxiv.org/abs/1702.05373\n"
     ]
    },
    {
     "name": "stdout",
     "output_type": "stream",
     "text": [
      "Train data is of shape: (112800, 28, 28, 1)\n",
      "Train labels is of shape: (112800,)\n",
      "Test data is of shape: (18800, 28, 28, 1)\n",
      "Test labels is of shape: (18800,)\n",
      "588/588 [==============================] - 6s 9ms/step - loss: 0.2908 - accuracy: 0.9021\n"
     ]
    }
   ],
   "source": [
    "model_names = [\"cnn\",\"mobilenet_nottrainable\", \"mobilenet_trainable\", \"nl_cnn\"]\n",
    "\n",
    "losses = []\n",
    "acc = []\n",
    "model_name = []\n",
    "\n",
    "for index, model in enumerate(model_names):\n",
    "    if model==\"cnn\":\n",
    "        train_images, train_labels, test_images, test_labels = get_emnist_data('Z:/Master I/PML - Practical Machine Learning/Jiani/data/emnist-balanced-train.csv')\n",
    "        # folds = range(1,6)\n",
    "        folds = [1]\n",
    "        for fold in folds:\n",
    "            model = load_model(os.path.join(\"Z:/Master I/PML - Practical Machine Learning/Jiani/checkpoints_jiani\",model_names[index],f\"{fold}/best_model.h5\"))\n",
    "            loss, ac = model.evaluate(test_images, test_labels)\n",
    "            losses.append(loss)\n",
    "            acc.append(ac)\n",
    "            model_name.append(\"cnn\"+f\"_fold_{fold}\")\n",
    "    else:\n",
    "        train_images, train_labels, test_images, test_labels = get_emnist_data()\n",
    "\n",
    "        test_gen = DataGenerator(test_images,\n",
    "                                 test_labels,\n",
    "                                 32,\n",
    "                                 (32,32),\n",
    "                                  True)\n",
    "        \n",
    "        model = load_model(os.path.join(\"Z:/Master I/PML - Practical Machine Learning/Jiani/checkpoints_jiani\",model_names[index],\"best_model.h5\"))\n",
    "        loss, ac = model.evaluate(test_gen)\n",
    "        losses.append(loss)\n",
    "        acc.append(ac)\n",
    "        model_name.append(model_names[index])"
   ]
  },
  {
   "cell_type": "code",
   "execution_count": 19,
   "metadata": {},
   "outputs": [
    {
     "name": "stdout",
     "output_type": "stream",
     "text": [
      "               model_name      loss  accuracy\n",
      "0              cnn_fold_1  0.518292  0.879834\n",
      "1  mobilenet_nottrainable  1.400829  0.606330\n",
      "2     mobilenet_trainable  0.413101  0.888085\n",
      "3                  nl_cnn  0.290777  0.902074\n"
     ]
    }
   ],
   "source": [
    "column_names = ['model_name', 'loss', 'accuracy']\n",
    "\n",
    "# Create a dictionary from the lists\n",
    "metrics = {\n",
    "    'model_name': model_name,\n",
    "    'loss': losses,\n",
    "    'accuracy': acc\n",
    "}\n",
    "\n",
    "# Create a Pandas DataFrame\n",
    "df = pd.DataFrame(metrics,\n",
    "                  columns=column_names)\n",
    "\n",
    "# Display the DataFrame\n",
    "print(df)"
   ]
  }
 ],
 "metadata": {
  "kernelspec": {
   "display_name": "tf_det",
   "language": "python",
   "name": "python3"
  },
  "language_info": {
   "codemirror_mode": {
    "name": "ipython",
    "version": 3
   },
   "file_extension": ".py",
   "mimetype": "text/x-python",
   "name": "python",
   "nbconvert_exporter": "python",
   "pygments_lexer": "ipython3",
   "version": "3.9.12"
  },
  "orig_nbformat": 4
 },
 "nbformat": 4,
 "nbformat_minor": 2
}
